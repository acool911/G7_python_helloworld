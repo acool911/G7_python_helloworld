{
 "cells": [
  {
   "cell_type": "markdown",
   "metadata": {},
   "source": [
    "# G7 Python 入门课程\n",
    "## 项目1 Python操作入门\n",
    "\n",
    "入门可能主要是读取税前薪水和可能的纳税额，根据正确的公式，判断是否正确"
   ]
  },
  {
   "cell_type": "markdown",
   "metadata": {},
   "source": [
    "**提示**：这样的文字将会指导你如何使用 iPython Notebook 来完成项目。"
   ]
  },
  {
   "cell_type": "code",
   "execution_count": 1,
   "metadata": {},
   "outputs": [],
   "source": [
    "# 检查你的Python版本\n",
    "from sys import version_info\n",
    "if version_info.major != 2 and version_info.minor != 7:\n",
    "    raise Exception('请使用Python 2.7来完成此项目')"
   ]
  },
  {
   "cell_type": "code",
   "execution_count": 2,
   "metadata": {},
   "outputs": [
    {
     "data": {
      "text/html": [
       "<div>\n",
       "<style scoped>\n",
       "    .dataframe tbody tr th:only-of-type {\n",
       "        vertical-align: middle;\n",
       "    }\n",
       "\n",
       "    .dataframe tbody tr th {\n",
       "        vertical-align: top;\n",
       "    }\n",
       "\n",
       "    .dataframe thead th {\n",
       "        text-align: right;\n",
       "    }\n",
       "</style>\n",
       "<table border=\"1\" class=\"dataframe\">\n",
       "  <thead>\n",
       "    <tr style=\"text-align: right;\">\n",
       "      <th></th>\n",
       "      <th>name</th>\n",
       "      <th>salary</th>\n",
       "      <th>tax_maybe</th>\n",
       "    </tr>\n",
       "  </thead>\n",
       "  <tbody>\n",
       "    <tr>\n",
       "      <th>0</th>\n",
       "      <td>wang</td>\n",
       "      <td>2500</td>\n",
       "      <td>0</td>\n",
       "    </tr>\n",
       "    <tr>\n",
       "      <th>1</th>\n",
       "      <td>zhang</td>\n",
       "      <td>7000</td>\n",
       "      <td>105</td>\n",
       "    </tr>\n",
       "    <tr>\n",
       "      <th>2</th>\n",
       "      <td>li</td>\n",
       "      <td>8000</td>\n",
       "      <td>205</td>\n",
       "    </tr>\n",
       "    <tr>\n",
       "      <th>3</th>\n",
       "      <td>song</td>\n",
       "      <td>9000</td>\n",
       "      <td>405</td>\n",
       "    </tr>\n",
       "    <tr>\n",
       "      <th>4</th>\n",
       "      <td>tang</td>\n",
       "      <td>50000</td>\n",
       "      <td>800</td>\n",
       "    </tr>\n",
       "  </tbody>\n",
       "</table>\n",
       "</div>"
      ],
      "text/plain": [
       "    name  salary  tax_maybe\n",
       "0   wang    2500          0\n",
       "1  zhang    7000        105\n",
       "2     li    8000        205\n",
       "3   song    9000        405\n",
       "4   tang   50000        800"
      ]
     },
     "metadata": {},
     "output_type": "display_data"
    }
   ],
   "source": [
    "import numpy as np\n",
    "import pandas as pd\n",
    "\n",
    "# 数据可视化代码\n",
    "from titanic_visualizations import survival_stats\n",
    "from IPython.display import display\n",
    "%matplotlib inline\n",
    "\n",
    "# 加载数据集\n",
    "in_file = 'data.csv'\n",
    "full_data = pd.read_csv(in_file)\n",
    "\n",
    "# 显示数据列表中的前几项数据\n",
    "display(full_data.head())"
   ]
  },
  {
   "cell_type": "markdown",
   "metadata": {},
   "source": [
    "数据样本中，我们可以看到的特征\n",
    "\n",
    "- **name**：名称\n",
    "- **salary**：税前薪水\n",
    "- **tax_maybe**：可能的缴税额度\n",
    "\n"
   ]
  },
  {
   "cell_type": "markdown",
   "metadata": {},
   "source": [
    "个税的计算方式\n",
    "![xxx](https://img-blog.csdn.net/20171017113915227?watermark/2/text/aHR0cDovL2Jsb2cuY3Nkbi5uZXQvVG9nZXRoZXJfQ1o=/font/5a6L5L2T/fontsize/400/fill/I0JBQkFCMA==/dissolve/70/gravity/Center)"
   ]
  },
  {
   "cell_type": "code",
   "execution_count": 26,
   "metadata": {},
   "outputs": [],
   "source": [
    "# 个人所得税税率速查表\n",
    "# 列表中每一项为元组，包含三项数据: (应纳税额, 税率，速算扣除数)\n",
    "tax_table = [\n",
    "         (80000, 0.45, 13505),\n",
    "         (55000, 0.35, 5505),\n",
    "         (35000, 0.3, 2755),\n",
    "         (9000, 0.25, 1005),\n",
    "         (4500, 0.2, 555),\n",
    "         (1500, 0.1, 105),\n",
    "         (0, 0.03, 0),\n",
    "]\n",
    "# 五险一金比例\n",
    "point = 3500  #免征额\n",
    "endowment_insurance_rate = 0.08  # 养老保险费率\n",
    "hospital_rate = 0.02  # 医疗保险费率\n",
    "losejob_rate = 0.01  # 失业保险费率\n",
    "provident_rate = 0.12  # 公积金费率\n",
    "provident_max = 20972 # 公积金基数最大值\n",
    "provident_min = 1500 # 公积金基数最小值\n",
    "endowment_insurance_min = 2193 # 养老保险基数最小值\n",
    "endowment_insurance_max = 16445 #养老保险基数最大值\n",
    "\n",
    "\n",
    "# 计算上交的养老保险\n",
    "def _get_endowment_insurance(salary):\n",
    "    if salary < endowment_insurance_min:\n",
    "        endowment_insurance = endowment_insurance_min * endowment_insurance_rate\n",
    "    elif salary > endowment_insurance_max:\n",
    "        endowment_insurance = endowment_insurance_max * endowment_insurance_rate\n",
    "    else:\n",
    "        endowment_insurance = salary * endowment_insurance_rate\n",
    "    return endowment_insurance\n",
    "\n",
    "\n",
    "# 计算上交的公积金\n",
    "def _get_provident(salary):\n",
    "    if salary < provident_min:\n",
    "        provident = provident_min * provident_rate\n",
    "    elif salary > provident_max:\n",
    "        provident = provident_max * provident_rate\n",
    "    else:\n",
    "        provident = salary * provident_rate\n",
    "    return provident\n",
    "\n",
    "\n",
    "#计算需要缴税的金额\n",
    "def get_tax_salary(salary):\n",
    "    #养老保险\n",
    "    endowment_insurance = _get_endowment_insurance(salary)\n",
    "    #公积金\n",
    "    provident = _get_provident(salary)\n",
    "    # 要缴纳的五险一金总额\n",
    "    insure = endowment_insurance + provident + salary * hospital_rate + salary * losejob_rate\n",
    "    # 需要算税的金额\n",
    "    tax_salary = salary - insure - point\n",
    "    return insure, tax_salary\n",
    "    \n",
    "\n",
    "#计算五险一金, 税, 实发工资\n",
    "def calculator(salary):\n",
    "    \"\"\" 返回税后薪水\n",
    "    :param salary:\n",
    "    \"\"\"\n",
    "    amount = get_tax_salary(salary)\n",
    "    insure, tax_salary = amount[0], amount[1]\n",
    "    if tax_salary < 0:\n",
    "        tax = 0\n",
    "        res_money = salary - insure - tax\n",
    "    else:\n",
    "        for item in tax_table:\n",
    "            if tax_salary > item[0]:\n",
    "                tax = tax_salary * item[1] - item[2]\n",
    "                break\n",
    "        res_money = salary - insure - tax\n",
    "    print '税前工资为：{:.0f}, 各种保险为：{:.2f}, 税为：{:.2f}, 税后工资为：{:.2f}'.format(salary, insure, tax, res_money)\n",
    "    return float('%.2f' % insure), float('%.2f' % tax), float('%.2f' % res_money)\n"
   ]
  },
  {
   "cell_type": "code",
   "execution_count": 30,
   "metadata": {},
   "outputs": [
    {
     "name": "stdout",
     "output_type": "stream",
     "text": [
      "税前工资为：2500, 各种保险为：575.00, 税为：0.00, 税后工资为：1925.00\n",
      "so cool\n",
      "税前工资为：7000, 各种保险为：1610.00, 税为：84.00, 税后工资为：5306.00\n",
      "税前工资为：8000, 各种保险为：1840.00, 税为：161.00, 税后工资为：5999.00\n",
      "税前工资为：9000, 各种保险为：2070.00, 税为：238.00, 税后工资为：6692.00\n",
      "税前工资为：50000, 各种保险为：5332.24, 税为：9595.33, 税后工资为：35072.43\n",
      "{'tang': 9595.33, 'song': 238.0, 'li': 161.0, 'wang': 0.0, 'zhang': 84.0}\n"
     ]
    }
   ],
   "source": [
    "taxs = {}\n",
    "for index, salary in full_data.iterrows():\n",
    "    tax = calculator(salary['salary'])[1]\n",
    "    taxs[salary['name']] = tax\n",
    "    if (tax == salary['tax_maybe']):\n",
    "        print \"so cool\"\n",
    "print taxs"
   ]
  },
  {
   "cell_type": "markdown",
   "metadata": {},
   "source": [
    "## 扩展内容\n",
    "将正确的纳税额导出到export.csv，并计算预测的正确率\n"
   ]
  },
  {
   "cell_type": "code",
   "execution_count": 31,
   "metadata": {},
   "outputs": [
    {
     "name": "stdout",
     "output_type": "stream",
     "text": [
      "税前工资为：2500, 各种保险为：575.00, 税为：0.00, 税后工资为：1925.00\n",
      "税前工资为：7000, 各种保险为：1610.00, 税为：84.00, 税后工资为：5306.00\n",
      "税前工资为：8000, 各种保险为：1840.00, 税为：161.00, 税后工资为：5999.00\n",
      "税前工资为：9000, 各种保险为：2070.00, 税为：238.00, 税后工资为：6692.00\n",
      "税前工资为：50000, 各种保险为：5332.24, 税为：9595.33, 税后工资为：35072.43\n",
      "export done\n"
     ]
    },
    {
     "data": {
      "text/html": [
       "<div>\n",
       "<style scoped>\n",
       "    .dataframe tbody tr th:only-of-type {\n",
       "        vertical-align: middle;\n",
       "    }\n",
       "\n",
       "    .dataframe tbody tr th {\n",
       "        vertical-align: top;\n",
       "    }\n",
       "\n",
       "    .dataframe thead th {\n",
       "        text-align: right;\n",
       "    }\n",
       "</style>\n",
       "<table border=\"1\" class=\"dataframe\">\n",
       "  <thead>\n",
       "    <tr style=\"text-align: right;\">\n",
       "      <th></th>\n",
       "      <th>name</th>\n",
       "      <th>salary</th>\n",
       "      <th>insure</th>\n",
       "      <th>res_money</th>\n",
       "      <th>tax_maybe</th>\n",
       "      <th>tax</th>\n",
       "    </tr>\n",
       "  </thead>\n",
       "  <tbody>\n",
       "    <tr>\n",
       "      <th>0</th>\n",
       "      <td>wang</td>\n",
       "      <td>2500</td>\n",
       "      <td>575.00</td>\n",
       "      <td>1925.00</td>\n",
       "      <td>0</td>\n",
       "      <td>0.00</td>\n",
       "    </tr>\n",
       "    <tr>\n",
       "      <th>1</th>\n",
       "      <td>zhang</td>\n",
       "      <td>7000</td>\n",
       "      <td>1610.00</td>\n",
       "      <td>5306.00</td>\n",
       "      <td>105</td>\n",
       "      <td>84.00</td>\n",
       "    </tr>\n",
       "    <tr>\n",
       "      <th>2</th>\n",
       "      <td>li</td>\n",
       "      <td>8000</td>\n",
       "      <td>1840.00</td>\n",
       "      <td>5999.00</td>\n",
       "      <td>205</td>\n",
       "      <td>161.00</td>\n",
       "    </tr>\n",
       "    <tr>\n",
       "      <th>3</th>\n",
       "      <td>song</td>\n",
       "      <td>9000</td>\n",
       "      <td>2070.00</td>\n",
       "      <td>6692.00</td>\n",
       "      <td>405</td>\n",
       "      <td>238.00</td>\n",
       "    </tr>\n",
       "    <tr>\n",
       "      <th>4</th>\n",
       "      <td>tang</td>\n",
       "      <td>50000</td>\n",
       "      <td>5332.24</td>\n",
       "      <td>35072.43</td>\n",
       "      <td>800</td>\n",
       "      <td>9595.33</td>\n",
       "    </tr>\n",
       "  </tbody>\n",
       "</table>\n",
       "</div>"
      ],
      "text/plain": [
       "    name  salary   insure  res_money  tax_maybe      tax\n",
       "0   wang    2500   575.00    1925.00          0     0.00\n",
       "1  zhang    7000  1610.00    5306.00        105    84.00\n",
       "2     li    8000  1840.00    5999.00        205   161.00\n",
       "3   song    9000  2070.00    6692.00        405   238.00\n",
       "4   tang   50000  5332.24   35072.43        800  9595.33"
      ]
     },
     "metadata": {},
     "output_type": "display_data"
    }
   ],
   "source": [
    "def export() :\n",
    "    # TODO 请导出正确的纳税额到export.csv, tax作为最后一列\n",
    "    name = []\n",
    "    salary = []\n",
    "    insure = []\n",
    "    tax = []\n",
    "    res_money = []\n",
    "    tax_maybe = []\n",
    "    for index, info in full_data.iterrows():\n",
    "        data = calculator(info['salary'])\n",
    "        name.append(info['name'])\n",
    "        salary.append(int(info['salary']))\n",
    "        tax_maybe.append(int(info['tax_maybe']))\n",
    "        insure.append(data[0])\n",
    "        tax.append(data[1])\n",
    "        res_money.append(data[2])\n",
    "    columns = ['name','salary','insure','res_money','tax_maybe','tax']\n",
    "    dataframe = pd.DataFrame({'name':name,'salary':salary,'insure':insure,'res_money':res_money,'tax_maybe':tax_maybe,'tax':tax})\n",
    "    dataframe.to_csv(\"export.csv\",index=False,columns=columns)\n",
    "    print \"export done\"\n",
    "    return tax_maybe, tax\n",
    "    \n",
    "    \n",
    "export()\n",
    "\n",
    "# 加载数据集\n",
    "in_file = 'export.csv'\n",
    "export_data = pd.read_csv(in_file)\n",
    "\n",
    "# 显示数据列表中的前几项数据\n",
    "display(export_data.head())"
   ]
  },
  {
   "cell_type": "code",
   "execution_count": 62,
   "metadata": {},
   "outputs": [
    {
     "name": "stdout",
     "output_type": "stream",
     "text": [
      "None\n",
      "accuracy of 25.00%.\n",
      "accuracy of 27.33%.\n",
      "accuracy of 70.17%.\n",
      "accuracy of -91.66%.\n"
     ]
    }
   ],
   "source": [
    "def accuracy_score(tax_maybe, tax):\n",
    "    # TODO 计算正确率\n",
    "    if tax_maybe != 0:\n",
    "        score = (float('%.2f' % tax) - float('%.2f' % tax_maybe))/float('%.2f' % tax_maybe) * 100\n",
    "        return \"accuracy of {:.2f}%.\".format(score)\n",
    "\n",
    "def get_tax_list():\n",
    "    # 获取所有的税数据\n",
    "    out_file = 'export.csv'\n",
    "    full_data = pd.read_csv(in_file)\n",
    "    taxs = []\n",
    "    taxs_maybe = []\n",
    "    for index, salary in full_data.iterrows():\n",
    "        taxs_maybe.append(salary['tax_maybe'])\n",
    "        taxs.append(salary['tax'])\n",
    "    return taxs_maybe, taxs\n",
    "\n",
    "tax_data = get_tax_list()\n",
    "tax_maybe = get_tax_list()[0]\n",
    "tax = get_tax_list()[1]\n",
    "for index in range(len(tax)):\n",
    "    accuracy_score(tax[index], tax_maybe[index])"
   ]
  },
  {
   "cell_type": "markdown",
   "metadata": {},
   "source": [
    "> **注意**: 当你写完了所有**4个TODO**。你就可以把你的 iPython Notebook 导出成 HTML 文件。你可以在菜单栏，这样导出**File -> Download as -> HTML (.html)** 把这个 HTML 和这个 iPython notebook 一起做为你的作业提交。"
   ]
  },
  {
   "cell_type": "code",
   "execution_count": null,
   "metadata": {},
   "outputs": [],
   "source": []
  }
 ],
 "metadata": {
  "kernelspec": {
   "display_name": "Python 2",
   "language": "python",
   "name": "python2"
  },
  "language_info": {
   "codemirror_mode": {
    "name": "ipython",
    "version": 2
   },
   "file_extension": ".py",
   "mimetype": "text/x-python",
   "name": "python",
   "nbconvert_exporter": "python",
   "pygments_lexer": "ipython2",
   "version": "2.7.10"
  }
 },
 "nbformat": 4,
 "nbformat_minor": 2
}
